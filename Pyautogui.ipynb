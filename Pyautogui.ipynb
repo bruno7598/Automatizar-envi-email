{
 "cells": [
  {
   "cell_type": "code",
   "execution_count": 97,
   "metadata": {},
   "outputs": [],
   "source": [
    "# pyautogui -> biblioteca do python\n",
    "# pyperclip\n",
    "# escrever passo a passo em português\n"
   ]
  },
  {
   "cell_type": "code",
   "execution_count": 2,
   "metadata": {},
   "outputs": [],
   "source": [
    "import pyautogui\n",
    "import pyperclip\n",
    "import time\n",
    "\n",
    "# pyautogui.PAUSE = 1\n",
    "\n",
    "# passo 1 - Entrar no sistema da empresa (no caso o drive)\n",
    "pyautogui.hotkey(\"Alt\", \"TAB\")\n",
    "pyautogui.hotkey(\"ctrl\", \"t\")\n",
    "pyperclip.copy(\"https://drive.google.com/drive/folders/14oLE59U1RqyRqlBbKpsyymW-mitvbtoh\")\n",
    "pyautogui.hotkey(\"ctrl\", \"v\")\n",
    "pyautogui.press(\"enter\") # botao do teclado\n",
    "time.sleep(3)\n",
    "\n",
    "\n",
    "# passo 2 - Navegar no sistema até encontrar a base de dados\n",
    "pyautogui.click(x=-808, y=343, clicks=1)\n",
    "time.sleep(2)\n",
    "\n",
    "\n",
    "# passo 3 - Exportar a base de vendas\n",
    "pyautogui.click(x=-255, y=211, clicks=1)\n",
    "time.sleep(2)\n",
    "pyautogui.click(x=-561, y=758, clicks=1)\n",
    "time.sleep(3)\n",
    "pyautogui.press(\"enter\")\n",
    "\n"
   ]
  },
  {
   "cell_type": "code",
   "execution_count": 99,
   "metadata": {},
   "outputs": [],
   "source": [
    "# passo 4 - Calcularia os indicadores (faturamento e quantidade de produtos vendidos)\n",
    "import pandas as pd\n",
    "\n",
    "tabela = pd.read_excel(r'C:\\Users\\isa66\\Desktop\\certificados e relatorio\\Vendas - Dez.xlsx') # quer a aba escreve sheets\n",
    "\n",
    "faturamento = tabela['Valor Final'].sum()\n",
    "quantidade = tabela['Quantidade'].sum()\n",
    "\n"
   ]
  },
  {
   "cell_type": "code",
   "execution_count": 100,
   "metadata": {},
   "outputs": [],
   "source": [
    "# passo 5 - Enviar em email para a diretoria com os indicadores\n",
    "pyautogui.PAUSE = 1\n",
    "\n",
    "pyautogui.hotkey(\"ctrl\", \"t\")\n",
    "pyperclip.copy(\"https://mail.google.com/mail/u/0/?tab=rm&ogbl#inbox?compose=new\")\n",
    "pyautogui.hotkey(\"ctrl\", \"v\")\n",
    "pyautogui.press(\"enter\") \n",
    "time.sleep(5)\n",
    "\n",
    "pyautogui.write(\"brunomirandamagalhaes@gmail.com\")\n",
    "pyautogui.press('tab')\n",
    "pyautogui.press('tab')\n",
    "pyperclip.copy(\"Relatório Completo\")\n",
    "pyautogui.hotkey(\"ctrl\", \"v\")\n",
    "time.sleep(2)\n",
    "pyautogui.press(\"tab\")\n",
    "\n",
    "texto = f\"\"\"\n",
    "Prezados, bom dia\n",
    "\n",
    "O faturamento de ontem foi de R$ {faturamento: .2f}\n",
    "A quantidade de produtos foi de : {quantidade: .2f}\n",
    "\n",
    "Abs\n",
    "Bruno Miranda\n",
    "\"\"\"\n",
    "\n",
    "pyperclip.copy(texto)\n",
    "pyautogui.hotkey(\"ctrl\", \"v\")\n",
    "\n",
    "pyautogui.hotkey(\"ctrl\", \"enter\")"
   ]
  },
  {
   "cell_type": "code",
   "execution_count": 3,
   "metadata": {},
   "outputs": [
    {
     "data": {
      "text/plain": [
       "Point(x=-379, y=449)"
      ]
     },
     "execution_count": 3,
     "metadata": {},
     "output_type": "execute_result"
    }
   ],
   "source": [
    "# Use esse codigo para descobrir qual a posição de um item que vc quer clicar\n",
    "time.sleep(5)\n",
    "pyautogui.position()"
   ]
  }
 ],
 "metadata": {
  "interpreter": {
   "hash": "d1a4b94ec7dcd09e21d04ed859ace631ca4bb7ff7a100e0cdc6ac8ebee414810"
  },
  "kernelspec": {
   "display_name": "Python 3.10.0 64-bit",
   "language": "python",
   "name": "python3"
  },
  "language_info": {
   "codemirror_mode": {
    "name": "ipython",
    "version": 3
   },
   "file_extension": ".py",
   "mimetype": "text/x-python",
   "name": "python",
   "nbconvert_exporter": "python",
   "pygments_lexer": "ipython3",
   "version": "3.10.0"
  },
  "orig_nbformat": 4
 },
 "nbformat": 4,
 "nbformat_minor": 2
}
